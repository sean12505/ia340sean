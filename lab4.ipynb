{
 "cells": [
  {
   "cell_type": "markdown",
   "id": "7c685ef4",
   "metadata": {},
   "source": [
    "# import python lib"
   ]
  },
  {
   "cell_type": "code",
   "execution_count": 1,
   "id": "e317770b",
   "metadata": {},
   "outputs": [
    {
     "name": "stderr",
     "output_type": "stream",
     "text": [
      "/home/ec2-user/anaconda3/envs/python3/lib/python3.6/site-packages/psycopg2/__init__.py:144: UserWarning: The psycopg2 wheel package will be renamed from release 2.8; in order to keep installing from binary please use \"pip install psycopg2-binary\" instead. For details see: <http://initd.org/psycopg/docs/install.html#binary-install-from-pypi>.\n",
      "  \"\"\")\n"
     ]
    }
   ],
   "source": [
    "import pandas\n",
    "import configparser\n",
    "import psycopg2"
   ]
  },
  {
   "cell_type": "markdown",
   "id": "fab02490",
   "metadata": {},
   "source": [
    "connect to DB"
   ]
  },
  {
   "cell_type": "code",
   "execution_count": 2,
   "id": "f084063e",
   "metadata": {},
   "outputs": [],
   "source": [
    "config = configparser.ConfigParser()\n",
    "config.read('config.ini')\n",
    "\n",
    "host=config['myaws']['host']\n",
    "db=config['myaws']['db']\n",
    "user=config['myaws']['user']\n",
    "pwd = config['myaws']['pwd']\n",
    "\n",
    "conn = psycopg2.connect(  host=host,\n",
    "                       user=user,\n",
    "                       password = pwd,\n",
    "                       dbname=db)"
   ]
  },
  {
   "cell_type": "code",
   "execution_count": 3,
   "id": "9781f45b",
   "metadata": {},
   "outputs": [],
   "source": [
    "cur=conn.cursor()"
   ]
  },
  {
   "cell_type": "markdown",
   "id": "dcb326d3",
   "metadata": {},
   "source": [
    "# Q 3.1"
   ]
  },
  {
   "cell_type": "markdown",
   "id": "5d9847a2",
   "metadata": {},
   "source": [
    "using panda to show all records in student table"
   ]
  },
  {
   "cell_type": "code",
   "execution_count": 8,
   "id": "edeea988",
   "metadata": {},
   "outputs": [],
   "source": [
    "sql_statement = \"\"\"\n",
    "select * from gp15.students\n",
    "\"\"\"\n"
   ]
  },
  {
   "cell_type": "code",
   "execution_count": 10,
   "id": "9ac05e1b",
   "metadata": {},
   "outputs": [],
   "source": [
    "cur.execute(sql_statement)"
   ]
  },
  {
   "cell_type": "code",
   "execution_count": 13,
   "id": "180a26d3",
   "metadata": {},
   "outputs": [
    {
     "data": {
      "text/html": [
       "<div>\n",
       "<style scoped>\n",
       "    .dataframe tbody tr th:only-of-type {\n",
       "        vertical-align: middle;\n",
       "    }\n",
       "\n",
       "    .dataframe tbody tr th {\n",
       "        vertical-align: top;\n",
       "    }\n",
       "\n",
       "    .dataframe thead th {\n",
       "        text-align: right;\n",
       "    }\n",
       "</style>\n",
       "<table border=\"1\" class=\"dataframe\">\n",
       "  <thead>\n",
       "    <tr style=\"text-align: right;\">\n",
       "      <th></th>\n",
       "      <th>s_email</th>\n",
       "      <th>s_name</th>\n",
       "      <th>s_major</th>\n",
       "    </tr>\n",
       "  </thead>\n",
       "  <tbody>\n",
       "    <tr>\n",
       "      <th>0</th>\n",
       "      <td>1@email.com</td>\n",
       "      <td>Sean A</td>\n",
       "      <td>Biology</td>\n",
       "    </tr>\n",
       "    <tr>\n",
       "      <th>1</th>\n",
       "      <td>2@email.com</td>\n",
       "      <td>Sean B</td>\n",
       "      <td>Chemistry</td>\n",
       "    </tr>\n",
       "    <tr>\n",
       "      <th>2</th>\n",
       "      <td>3@email.com</td>\n",
       "      <td>Sean C</td>\n",
       "      <td>Astronomy</td>\n",
       "    </tr>\n",
       "    <tr>\n",
       "      <th>3</th>\n",
       "      <td>4@email.com</td>\n",
       "      <td>Sean D</td>\n",
       "      <td>Management\\n</td>\n",
       "    </tr>\n",
       "    <tr>\n",
       "      <th>4</th>\n",
       "      <td>5@email.com</td>\n",
       "      <td>Sean E</td>\n",
       "      <td>IA</td>\n",
       "    </tr>\n",
       "    <tr>\n",
       "      <th>5</th>\n",
       "      <td>6@email.com</td>\n",
       "      <td>Sean F</td>\n",
       "      <td>Business</td>\n",
       "    </tr>\n",
       "    <tr>\n",
       "      <th>6</th>\n",
       "      <td>7@email.com</td>\n",
       "      <td>Sean G</td>\n",
       "      <td>Art</td>\n",
       "    </tr>\n",
       "    <tr>\n",
       "      <th>7</th>\n",
       "      <td>8@email.com</td>\n",
       "      <td>Sean H</td>\n",
       "      <td>Astronomy</td>\n",
       "    </tr>\n",
       "    <tr>\n",
       "      <th>8</th>\n",
       "      <td>9@email.com</td>\n",
       "      <td>Sean Z</td>\n",
       "      <td>Physics</td>\n",
       "    </tr>\n",
       "    <tr>\n",
       "      <th>9</th>\n",
       "      <td>10@email.com</td>\n",
       "      <td>Sean X</td>\n",
       "      <td>Arab Studies</td>\n",
       "    </tr>\n",
       "  </tbody>\n",
       "</table>\n",
       "</div>"
      ],
      "text/plain": [
       "        s_email  s_name       s_major\n",
       "0   1@email.com  Sean A       Biology\n",
       "1   2@email.com  Sean B     Chemistry\n",
       "2   3@email.com  Sean C     Astronomy\n",
       "3   4@email.com  Sean D  Management\\n\n",
       "4   5@email.com  Sean E            IA\n",
       "5   6@email.com  Sean F      Business\n",
       "6   7@email.com  Sean G           Art\n",
       "7   8@email.com  Sean H     Astronomy\n",
       "8   9@email.com  Sean Z       Physics\n",
       "9  10@email.com  Sean X  Arab Studies"
      ]
     },
     "execution_count": 13,
     "metadata": {},
     "output_type": "execute_result"
    }
   ],
   "source": [
    "df=pandas.read_sql_query(sql_statement,conn)\n",
    "df[:]"
   ]
  },
  {
   "cell_type": "markdown",
   "id": "6e4990ac",
   "metadata": {},
   "source": [
    "# Q 3.2"
   ]
  },
  {
   "cell_type": "code",
   "execution_count": 4,
   "id": "f33ed24d",
   "metadata": {},
   "outputs": [],
   "source": [
    "sql_statement = \"\"\"\n",
    "select gp15.professors.p_name, gp15.courses.c_name\n",
    "from gp15.professors\n",
    "inner join gp15.courses\n",
    "on gp15.professors.p_email = gp15.courses.p_email\n",
    "\n",
    "\"\"\""
   ]
  },
  {
   "cell_type": "code",
   "execution_count": 5,
   "id": "2c466176",
   "metadata": {},
   "outputs": [],
   "source": [
    "cur.execute(sql_statement)"
   ]
  },
  {
   "cell_type": "code",
   "execution_count": 6,
   "id": "bc66b3b7",
   "metadata": {},
   "outputs": [
    {
     "data": {
      "text/html": [
       "<div>\n",
       "<style scoped>\n",
       "    .dataframe tbody tr th:only-of-type {\n",
       "        vertical-align: middle;\n",
       "    }\n",
       "\n",
       "    .dataframe tbody tr th {\n",
       "        vertical-align: top;\n",
       "    }\n",
       "\n",
       "    .dataframe thead th {\n",
       "        text-align: right;\n",
       "    }\n",
       "</style>\n",
       "<table border=\"1\" class=\"dataframe\">\n",
       "  <thead>\n",
       "    <tr style=\"text-align: right;\">\n",
       "      <th></th>\n",
       "      <th>p_name</th>\n",
       "      <th>c_name</th>\n",
       "    </tr>\n",
       "  </thead>\n",
       "  <tbody>\n",
       "    <tr>\n",
       "      <th>0</th>\n",
       "      <td>John Robinson</td>\n",
       "      <td>IA</td>\n",
       "    </tr>\n",
       "    <tr>\n",
       "      <th>1</th>\n",
       "      <td>Stephen Marrin</td>\n",
       "      <td>Introduction to Tables</td>\n",
       "    </tr>\n",
       "    <tr>\n",
       "      <th>2</th>\n",
       "      <td>Bob Kolvoord</td>\n",
       "      <td>Introduction to Databases</td>\n",
       "    </tr>\n",
       "    <tr>\n",
       "      <th>3</th>\n",
       "      <td>thename</td>\n",
       "      <td>course</td>\n",
       "    </tr>\n",
       "    <tr>\n",
       "      <th>4</th>\n",
       "      <td>thename</td>\n",
       "      <td>Art</td>\n",
       "    </tr>\n",
       "  </tbody>\n",
       "</table>\n",
       "</div>"
      ],
      "text/plain": [
       "           p_name                     c_name\n",
       "0   John Robinson                         IA\n",
       "1  Stephen Marrin     Introduction to Tables\n",
       "2    Bob Kolvoord  Introduction to Databases\n",
       "3         thename                     course\n",
       "4         thename                        Art"
      ]
     },
     "execution_count": 6,
     "metadata": {},
     "output_type": "execute_result"
    }
   ],
   "source": [
    "df=pandas.read_sql_query(sql_statement,conn)\n",
    "df[:]"
   ]
  },
  {
   "cell_type": "markdown",
   "id": "6c55dba4",
   "metadata": {},
   "source": [
    "# Q 3.3"
   ]
  },
  {
   "cell_type": "code",
   "execution_count": 16,
   "id": "826d214e",
   "metadata": {},
   "outputs": [],
   "source": [
    "sql_statement = \"\"\"\n",
    "select c_number, \n",
    "count (c_number) as enrolled\n",
    "from gp15.enroll_list\n",
    "group by c_number\n",
    "order by enrolled desc\n",
    "\"\"\""
   ]
  },
  {
   "cell_type": "code",
   "execution_count": 17,
   "id": "b545166d",
   "metadata": {},
   "outputs": [],
   "source": [
    "cur.execute(sql_statement)"
   ]
  },
  {
   "cell_type": "code",
   "execution_count": 18,
   "id": "60d87274",
   "metadata": {},
   "outputs": [
    {
     "data": {
      "text/plain": [
       "<AxesSubplot:xlabel='c_number'>"
      ]
     },
     "execution_count": 18,
     "metadata": {},
     "output_type": "execute_result"
    },
    {
     "data": {
      "image/png": "[encoded data removed]",
      "text/plain": [
       "<Figure size 432x288 with 1 Axes>"
      ]
     },
     "metadata": {
      "needs_background": "light"
     },
     "output_type": "display_data"
    }
   ],
   "source": [
    "df_price=pandas.read_sql_query(sql_statement,conn)\n",
    "\n",
    "df_price.plot.bar(x='c_number',y='enrolled')"
   ]
  },
  {
   "cell_type": "markdown",
   "id": "d12903fd",
   "metadata": {},
   "source": [
    "# Q 3.4"
   ]
  },
  {
   "cell_type": "code",
   "execution_count": 19,
   "id": "2c6b09a6",
   "metadata": {},
   "outputs": [],
   "source": [
    "sql_statement= \"\"\"\n",
    "select gp15.courses.c_name, gp15.professors.p_name,\n",
    "count(gp15.courses.c_name) as numberofcourses\n",
    "from gp15.professors\n",
    "inner join gp15.courses\n",
    "on gp15.professors.p_email = gp15.courses.p_email\n",
    "group by gp15.professors.p_name, gp15.courses.c_name\n",
    "\"\"\""
   ]
  },
  {
   "cell_type": "code",
   "execution_count": 20,
   "id": "6facf49a",
   "metadata": {},
   "outputs": [],
   "source": [
    "cur.execute(sql_statement)"
   ]
  },
  {
   "cell_type": "code",
   "execution_count": 21,
   "id": "2eb84e26",
   "metadata": {},
   "outputs": [
    {
     "data": {
      "text/plain": [
       "<AxesSubplot:xlabel='p_name'>"
      ]
     },
     "execution_count": 21,
     "metadata": {},
     "output_type": "execute_result"
    },
    {
     "data": {
      "image/png": "[encoded data removed]",
      "text/plain": [
       "<Figure size 432x288 with 1 Axes>"
      ]
     },
     "metadata": {
      "needs_background": "light"
     },
     "output_type": "display_data"
    }
   ],
   "source": [
    "df_price=pandas.read_sql_query(sql_statement,conn)\n",
    "\n",
    "df_price.plot.bar(x='p_name',y='numberofcourses')"
   ]
  },
  {
   "cell_type": "markdown",
   "id": "263fc34b",
   "metadata": {},
   "source": [
    "# Q 3.5"
   ]
  },
  {
   "cell_type": "code",
   "execution_count": 22,
   "id": "3e7c1123",
   "metadata": {},
   "outputs": [],
   "source": [
    "sql_statement= \"\"\"\n",
    "insert into gp15.professors(p_email,p_name,p_office)\n",
    "values('ok@gmail.com','profname','2222')\n",
    "\n",
    "\"\"\""
   ]
  },
  {
   "cell_type": "code",
   "execution_count": 23,
   "id": "10ccd4c3",
   "metadata": {},
   "outputs": [],
   "source": [
    "cur.execute(sql_statement)"
   ]
  },
  {
   "cell_type": "code",
   "execution_count": 24,
   "id": "f5d43edb",
   "metadata": {},
   "outputs": [],
   "source": [
    "sql_statement = \"\"\"\n",
    "insert into gp15.courses(c_name,c_number,p_email,c_room_number)\n",
    "values('acourse','anumber','ok@gmail.com','234')\n",
    "\n",
    "\"\"\""
   ]
  },
  {
   "cell_type": "code",
   "execution_count": 25,
   "id": "1e4c427f",
   "metadata": {},
   "outputs": [],
   "source": [
    "cur.execute(sql_statement)"
   ]
  },
  {
   "cell_type": "code",
   "execution_count": 26,
   "id": "daf5e61d",
   "metadata": {},
   "outputs": [],
   "source": [
    "sql_statement= \"\"\"\n",
    "select * from gp15.professors\n",
    "\"\"\""
   ]
  },
  {
   "cell_type": "code",
   "execution_count": 27,
   "id": "2e1dd9d5",
   "metadata": {},
   "outputs": [],
   "source": [
    "cur.execute(sql_statement)"
   ]
  },
  {
   "cell_type": "code",
   "execution_count": 28,
   "id": "e172d9e8",
   "metadata": {},
   "outputs": [
    {
     "data": {
      "text/html": [
       "<div>\n",
       "<style scoped>\n",
       "    .dataframe tbody tr th:only-of-type {\n",
       "        vertical-align: middle;\n",
       "    }\n",
       "\n",
       "    .dataframe tbody tr th {\n",
       "        vertical-align: top;\n",
       "    }\n",
       "\n",
       "    .dataframe thead th {\n",
       "        text-align: right;\n",
       "    }\n",
       "</style>\n",
       "<table border=\"1\" class=\"dataframe\">\n",
       "  <thead>\n",
       "    <tr style=\"text-align: right;\">\n",
       "      <th></th>\n",
       "      <th>p_email</th>\n",
       "      <th>p_name</th>\n",
       "      <th>p_office</th>\n",
       "    </tr>\n",
       "  </thead>\n",
       "  <tbody>\n",
       "    <tr>\n",
       "      <th>0</th>\n",
       "      <td>kolvoora@jmu.edu</td>\n",
       "      <td>Bob Kolvoord</td>\n",
       "      <td>ISAT 370</td>\n",
       "    </tr>\n",
       "    <tr>\n",
       "      <th>1</th>\n",
       "      <td>marrinsp@jmu.edu</td>\n",
       "      <td>Stephen Marrin</td>\n",
       "      <td>ENGEO 2104</td>\n",
       "    </tr>\n",
       "    <tr>\n",
       "      <th>2</th>\n",
       "      <td>robinsja@jmu.edu</td>\n",
       "      <td>John Robinson</td>\n",
       "      <td>ISAT 127</td>\n",
       "    </tr>\n",
       "    <tr>\n",
       "      <th>3</th>\n",
       "      <td>1111@gmail.com</td>\n",
       "      <td>thename</td>\n",
       "      <td>11111</td>\n",
       "    </tr>\n",
       "    <tr>\n",
       "      <th>4</th>\n",
       "      <td>ok@gmail.com</td>\n",
       "      <td>profname</td>\n",
       "      <td>2222</td>\n",
       "    </tr>\n",
       "  </tbody>\n",
       "</table>\n",
       "</div>"
      ],
      "text/plain": [
       "            p_email          p_name    p_office\n",
       "0  kolvoora@jmu.edu    Bob Kolvoord    ISAT 370\n",
       "1  marrinsp@jmu.edu  Stephen Marrin  ENGEO 2104\n",
       "2  robinsja@jmu.edu   John Robinson    ISAT 127\n",
       "3    1111@gmail.com         thename       11111\n",
       "4      ok@gmail.com        profname        2222"
      ]
     },
     "execution_count": 28,
     "metadata": {},
     "output_type": "execute_result"
    }
   ],
   "source": [
    "df=pandas.read_sql_query(sql_statement,conn)\n",
    "df[:]"
   ]
  },
  {
   "cell_type": "code",
   "execution_count": 29,
   "id": "2f322599",
   "metadata": {},
   "outputs": [],
   "source": [
    "sql_statement= \"\"\"\n",
    "select * from gp15.courses\n",
    "\n",
    "\"\"\""
   ]
  },
  {
   "cell_type": "code",
   "execution_count": 30,
   "id": "3263fed8",
   "metadata": {},
   "outputs": [],
   "source": [
    "cur.execute(sql_statement)"
   ]
  },
  {
   "cell_type": "code",
   "execution_count": 31,
   "id": "fea82e88",
   "metadata": {},
   "outputs": [
    {
     "data": {
      "text/html": [
       "<div>\n",
       "<style scoped>\n",
       "    .dataframe tbody tr th:only-of-type {\n",
       "        vertical-align: middle;\n",
       "    }\n",
       "\n",
       "    .dataframe tbody tr th {\n",
       "        vertical-align: top;\n",
       "    }\n",
       "\n",
       "    .dataframe thead th {\n",
       "        text-align: right;\n",
       "    }\n",
       "</style>\n",
       "<table border=\"1\" class=\"dataframe\">\n",
       "  <thead>\n",
       "    <tr style=\"text-align: right;\">\n",
       "      <th></th>\n",
       "      <th>c_number</th>\n",
       "      <th>c_name</th>\n",
       "      <th>c_room_number</th>\n",
       "      <th>p_email</th>\n",
       "    </tr>\n",
       "  </thead>\n",
       "  <tbody>\n",
       "    <tr>\n",
       "      <th>0</th>\n",
       "      <td>150</td>\n",
       "      <td>IA</td>\n",
       "      <td>ENGEO 214</td>\n",
       "      <td>robinsja@jmu.edu</td>\n",
       "    </tr>\n",
       "    <tr>\n",
       "      <th>1</th>\n",
       "      <td>162</td>\n",
       "      <td>Introduction to Tables</td>\n",
       "      <td>ENGEO 337</td>\n",
       "      <td>marrinsp@jmu.edu</td>\n",
       "    </tr>\n",
       "    <tr>\n",
       "      <th>2</th>\n",
       "      <td>174</td>\n",
       "      <td>Introduction to Databases</td>\n",
       "      <td>ENGEO 440</td>\n",
       "      <td>kolvoora@jmu.edu</td>\n",
       "    </tr>\n",
       "    <tr>\n",
       "      <th>3</th>\n",
       "      <td>thenumber</td>\n",
       "      <td>course</td>\n",
       "      <td>123</td>\n",
       "      <td>1111@gmail.com</td>\n",
       "    </tr>\n",
       "    <tr>\n",
       "      <th>4</th>\n",
       "      <td>120</td>\n",
       "      <td>Art</td>\n",
       "      <td>ISAT 200</td>\n",
       "      <td>1111@gmail.com</td>\n",
       "    </tr>\n",
       "    <tr>\n",
       "      <th>5</th>\n",
       "      <td>anumber</td>\n",
       "      <td>acourse</td>\n",
       "      <td>234</td>\n",
       "      <td>ok@gmail.com</td>\n",
       "    </tr>\n",
       "  </tbody>\n",
       "</table>\n",
       "</div>"
      ],
      "text/plain": [
       "    c_number                     c_name c_room_number           p_email\n",
       "0        150                         IA     ENGEO 214  robinsja@jmu.edu\n",
       "1        162     Introduction to Tables     ENGEO 337  marrinsp@jmu.edu\n",
       "2        174  Introduction to Databases     ENGEO 440  kolvoora@jmu.edu\n",
       "3  thenumber                     course           123    1111@gmail.com\n",
       "4        120                        Art      ISAT 200    1111@gmail.com\n",
       "5    anumber                    acourse           234      ok@gmail.com"
      ]
     },
     "execution_count": 31,
     "metadata": {},
     "output_type": "execute_result"
    }
   ],
   "source": [
    "df=pandas.read_sql_query(sql_statement,conn)\n",
    "df[:]"
   ]
  },
  {
   "cell_type": "markdown",
   "id": "b357a088",
   "metadata": {},
   "source": [
    "# Q 3.6"
   ]
  },
  {
   "cell_type": "code",
   "execution_count": 32,
   "id": "970da018",
   "metadata": {},
   "outputs": [],
   "source": [
    "sql_statement = \"\"\"\n",
    "update gp15.courses\n",
    "set p_email = 'ok@gmail.com'\n",
    "where p_email = '1111@gmail.com'\n",
    "\n",
    "\n",
    "\"\"\""
   ]
  },
  {
   "cell_type": "code",
   "execution_count": 33,
   "id": "e5e0a032",
   "metadata": {},
   "outputs": [],
   "source": [
    "cur.execute(sql_statement)"
   ]
  },
  {
   "cell_type": "code",
   "execution_count": 34,
   "id": "aa135283",
   "metadata": {},
   "outputs": [],
   "source": [
    "sql_statement = \"\"\"\n",
    "select * from gp15.courses\n",
    "\n",
    "\"\"\""
   ]
  },
  {
   "cell_type": "code",
   "execution_count": 35,
   "id": "1816fcfa",
   "metadata": {},
   "outputs": [],
   "source": [
    "cur.execute(sql_statement)"
   ]
  },
  {
   "cell_type": "code",
   "execution_count": 36,
   "id": "0a34069d",
   "metadata": {
    "scrolled": true
   },
   "outputs": [
    {
     "data": {
      "text/html": [
       "<div>\n",
       "<style scoped>\n",
       "    .dataframe tbody tr th:only-of-type {\n",
       "        vertical-align: middle;\n",
       "    }\n",
       "\n",
       "    .dataframe tbody tr th {\n",
       "        vertical-align: top;\n",
       "    }\n",
       "\n",
       "    .dataframe thead th {\n",
       "        text-align: right;\n",
       "    }\n",
       "</style>\n",
       "<table border=\"1\" class=\"dataframe\">\n",
       "  <thead>\n",
       "    <tr style=\"text-align: right;\">\n",
       "      <th></th>\n",
       "      <th>c_number</th>\n",
       "      <th>c_name</th>\n",
       "      <th>c_room_number</th>\n",
       "      <th>p_email</th>\n",
       "    </tr>\n",
       "  </thead>\n",
       "  <tbody>\n",
       "    <tr>\n",
       "      <th>0</th>\n",
       "      <td>150</td>\n",
       "      <td>IA</td>\n",
       "      <td>ENGEO 214</td>\n",
       "      <td>robinsja@jmu.edu</td>\n",
       "    </tr>\n",
       "    <tr>\n",
       "      <th>1</th>\n",
       "      <td>162</td>\n",
       "      <td>Introduction to Tables</td>\n",
       "      <td>ENGEO 337</td>\n",
       "      <td>marrinsp@jmu.edu</td>\n",
       "    </tr>\n",
       "    <tr>\n",
       "      <th>2</th>\n",
       "      <td>174</td>\n",
       "      <td>Introduction to Databases</td>\n",
       "      <td>ENGEO 440</td>\n",
       "      <td>kolvoora@jmu.edu</td>\n",
       "    </tr>\n",
       "    <tr>\n",
       "      <th>3</th>\n",
       "      <td>anumber</td>\n",
       "      <td>acourse</td>\n",
       "      <td>234</td>\n",
       "      <td>ok@gmail.com</td>\n",
       "    </tr>\n",
       "    <tr>\n",
       "      <th>4</th>\n",
       "      <td>thenumber</td>\n",
       "      <td>course</td>\n",
       "      <td>123</td>\n",
       "      <td>ok@gmail.com</td>\n",
       "    </tr>\n",
       "    <tr>\n",
       "      <th>5</th>\n",
       "      <td>120</td>\n",
       "      <td>Art</td>\n",
       "      <td>ISAT 200</td>\n",
       "      <td>ok@gmail.com</td>\n",
       "    </tr>\n",
       "  </tbody>\n",
       "</table>\n",
       "</div>"
      ],
      "text/plain": [
       "    c_number                     c_name c_room_number           p_email\n",
       "0        150                         IA     ENGEO 214  robinsja@jmu.edu\n",
       "1        162     Introduction to Tables     ENGEO 337  marrinsp@jmu.edu\n",
       "2        174  Introduction to Databases     ENGEO 440  kolvoora@jmu.edu\n",
       "3    anumber                    acourse           234      ok@gmail.com\n",
       "4  thenumber                     course           123      ok@gmail.com\n",
       "5        120                        Art      ISAT 200      ok@gmail.com"
      ]
     },
     "execution_count": 36,
     "metadata": {},
     "output_type": "execute_result"
    }
   ],
   "source": [
    "df=pandas.read_sql_query(sql_statement,conn)\n",
    "df[:]"
   ]
  },
  {
   "cell_type": "code",
   "execution_count": 37,
   "id": "68bfa6d3",
   "metadata": {},
   "outputs": [],
   "source": [
    "cur.close()\n",
    "conn.close()"
   ]
  },
  {
   "cell_type": "code",
   "execution_count": null,
   "id": "c125a40f",
   "metadata": {},
   "outputs": [],
   "source": []
  }
 ],
 "metadata": {
  "kernelspec": {
   "display_name": "conda_python3",
   "language": "python",
   "name": "conda_python3"
  },
  "language_info": {
   "codemirror_mode": {
    "name": "ipython",
    "version": 3
   },
   "file_extension": ".py",
   "mimetype": "text/x-python",
   "name": "python",
   "nbconvert_exporter": "python",
   "pygments_lexer": "ipython3",
   "version": "3.6.13"
  }
 },
 "nbformat": 4,
 "nbformat_minor": 5
}
